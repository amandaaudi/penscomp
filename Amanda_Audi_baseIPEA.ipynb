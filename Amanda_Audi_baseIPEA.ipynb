{
  "nbformat": 4,
  "nbformat_minor": 0,
  "metadata": {
    "colab": {
      "name": "Amanda Audi_baseIPEA.ipynb",
      "provenance": []
    },
    "kernelspec": {
      "name": "python3",
      "display_name": "Python 3"
    },
    "language_info": {
      "name": "python"
    }
  },
  "cells": [
    {
      "cell_type": "code",
      "metadata": {
        "id": "gdIUjljtO-OQ"
      },
      "source": [
        "import requests\n",
        "url = \"https://www.ipea.gov.br/cartadeconjuntura/index.php/series-estatisticas-conjunturais-2/\"\n",
        "resposta = requests.get(url)\n",
        "html = resposta.text"
      ],
      "execution_count": null,
      "outputs": []
    },
    {
      "cell_type": "code",
      "metadata": {
        "colab": {
          "base_uri": "https://localhost:8080/"
        },
        "id": "7Y4_0_j3P9uT",
        "outputId": "5792a4d1-980f-4823-8859-93075fb47a57"
      },
      "source": [
        "print(html)\n"
      ],
      "execution_count": null,
      "outputs": [
        {
          "output_type": "stream",
          "name": "stdout",
          "text": [
            "<!DOCTYPE html>\r\n",
            "<!--[if IE 7]>\r\n",
            "<html class=\"ie ie7\" lang=\"pt-BR\">\r\n",
            "<![endif]-->\r\n",
            "<!--[if IE 8]>\r\n",
            "<html class=\"ie ie8\" lang=\"pt-BR\">\r\n",
            "<![endif]-->\r\n",
            "<!--[if !(IE 7) & !(IE 8)]><!-->\r\n",
            "<html lang=\"pt-BR\">\r\n",
            "<!--<![endif]-->\r\n",
            "<head>\r\n",
            "\t<meta charset=\"UTF-8\">\r\n",
            "\t<meta name=\"viewport\" content=\"width=device-width\">\r\n",
            "\t<title>Séries de Estatísticas Conjunturais | Carta de Conjuntura</title>\r\n",
            "\t<link rel=\"profile\" href=\"http://gmpg.org/xfn/11\">\r\n",
            "\t<link rel=\"pingback\" href=\"http://www.ipea.gov.br/cartadeconjuntura/xmlrpc.php\">\r\n",
            "\t<!--[if lt IE 9]>\r\n",
            "\t<script src=\"http://www.ipea.gov.br/cartadeconjuntura/wp-content/themes/twentythirteen/js/html5.js\"></script>\r\n",
            "\t<![endif]-->\r\n",
            "\t<link rel=\"alternate\" type=\"application/rss+xml\" title=\"Feed de Carta de Conjuntura &raquo;\" href=\"http://www.ipea.gov.br/cartadeconjuntura/index.php/feed/\" />\n",
            "<link rel=\"alternate\" type=\"application/rss+xml\" title=\"Carta de Conjuntura &raquo;  Feed de comentários\" href=\"http://www.ipea.gov.br/cartadeconjuntura/index.php/comments/feed/\" />\n",
            "<link rel=\"alternate\" type=\"application/rss+xml\" title=\"Carta de Conjuntura &raquo; Séries de Estatísticas Conjunturais  Feed de comentários\" href=\"http://www.ipea.gov.br/cartadeconjuntura/index.php/series-estatisticas-conjunturais-2/feed/\" />\n",
            "\t\t<script type=\"text/javascript\">\n",
            "\t\t\twindow._wpemojiSettings = {\"baseUrl\":\"http:\\/\\/s.w.org\\/images\\/core\\/emoji\\/72x72\\/\",\"ext\":\".png\",\"source\":{\"concatemoji\":\"http:\\/\\/www.ipea.gov.br\\/cartadeconjuntura\\/wp-includes\\/js\\/wp-emoji-release.min.js?ver=4.2.9\"}};\n",
            "\t\t\t!function(a,b,c){function d(a){var c=b.createElement(\"canvas\"),d=c.getContext&&c.getContext(\"2d\");return d&&d.fillText?(d.textBaseline=\"top\",d.font=\"600 32px Arial\",\"flag\"===a?(d.fillText(String.fromCharCode(55356,56812,55356,56807),0,0),c.toDataURL().length>3e3):(d.fillText(String.fromCharCode(55357,56835),0,0),0!==d.getImageData(16,16,1,1).data[0])):!1}function e(a){var c=b.createElement(\"script\");c.src=a,c.type=\"text/javascript\",b.getElementsByTagName(\"head\")[0].appendChild(c)}var f,g;c.supports={simple:d(\"simple\"),flag:d(\"flag\")},c.DOMReady=!1,c.readyCallback=function(){c.DOMReady=!0},c.supports.simple&&c.supports.flag||(g=function(){c.readyCallback()},b.addEventListener?(b.addEventListener(\"DOMContentLoaded\",g,!1),a.addEventListener(\"load\",g,!1)):(a.attachEvent(\"onload\",g),b.attachEvent(\"onreadystatechange\",function(){\"complete\"===b.readyState&&c.readyCallback()})),f=c.source||{},f.concatemoji?e(f.concatemoji):f.wpemoji&&f.twemoji&&(e(f.twemoji),e(f.wpemoji)))}(window,document,window._wpemojiSettings);\n",
            "\t\t</script>\n",
            "\t\t<style type=\"text/css\">\n",
            "img.wp-smiley,\n",
            "img.emoji {\n",
            "\tdisplay: inline !important;\n",
            "\tborder: none !important;\n",
            "\tbox-shadow: none !important;\n",
            "\theight: 1em !important;\n",
            "\twidth: 1em !important;\n",
            "\tmargin: 0 .07em !important;\n",
            "\tvertical-align: -0.1em !important;\n",
            "\tbackground: none !important;\n",
            "\tpadding: 0 !important;\n",
            "}\n",
            "</style>\n",
            "<link rel='stylesheet' id='contact-form-7-css'  href='http://www.ipea.gov.br/cartadeconjuntura/wp-content/plugins/contact-form-7/includes/css/styles.css?ver=4.2.2' type='text/css' media='all' />\n",
            "<link rel='stylesheet' id='twentythirteen-fonts-css'  href='//fonts.googleapis.com/css?family=Source+Sans+Pro%3A300%2C400%2C700%2C300italic%2C400italic%2C700italic%7CBitter%3A400%2C700&#038;subset=latin%2Clatin-ext' type='text/css' media='all' />\n",
            "<link rel='stylesheet' id='genericons-css'  href='http://www.ipea.gov.br/cartadeconjuntura/wp-content/themes/twentythirteen/genericons/genericons.css?ver=3.03' type='text/css' media='all' />\n",
            "<link rel='stylesheet' id='twentythirteen-style-css'  href='http://www.ipea.gov.br/cartadeconjuntura/wp-content/themes/twentythirteen/style.css?ver=2013-07-18' type='text/css' media='all' />\n",
            "<!--[if lt IE 9]>\n",
            "<link rel='stylesheet' id='twentythirteen-ie-css'  href='http://www.ipea.gov.br/cartadeconjuntura/wp-content/themes/twentythirteen/css/ie.css?ver=2013-07-18' type='text/css' media='all' />\n",
            "<![endif]-->\n",
            "<script type='text/javascript' src='http://www.ipea.gov.br/cartadeconjuntura/wp-includes/js/jquery/jquery.js?ver=1.11.2'></script>\n",
            "<script type='text/javascript' src='http://www.ipea.gov.br/cartadeconjuntura/wp-includes/js/jquery/jquery-migrate.min.js?ver=1.2.1'></script>\n",
            "<link rel=\"EditURI\" type=\"application/rsd+xml\" title=\"RSD\" href=\"http://www.ipea.gov.br/cartadeconjuntura/xmlrpc.php?rsd\" />\n",
            "<link rel=\"wlwmanifest\" type=\"application/wlwmanifest+xml\" href=\"http://www.ipea.gov.br/cartadeconjuntura/wp-includes/wlwmanifest.xml\" /> \n",
            "<meta name=\"generator\" content=\"WordPress 4.2.9\" />\n",
            "<link rel='canonical' href='http://www.ipea.gov.br/cartadeconjuntura/index.php/series-estatisticas-conjunturais-2/' />\n",
            "<link rel='shortlink' href='http://www.ipea.gov.br/cartadeconjuntura/?p=2' />\n",
            "\t\t\t<style type=\"text/css\" media=\"screen\">\n",
            "\t\t\t\t/**\n",
            "\t\t\t\t * Plugin Name: Subtitles\n",
            "\t\t\t\t * Plugin URI: http://wordpress.org/plugins/subtitles/\n",
            "\t\t\t\t * Description: Easily add subtitles into your WordPress posts, pages, custom post types, and themes.\n",
            "\t\t\t\t * Author: We Cobble\n",
            "\t\t\t\t * Author URI: https://wecobble.com/\n",
            "\t\t\t\t * Version: 2.2.0\n",
            "\t\t\t\t * License: GNU General Public License v2 or later\n",
            "\t\t\t\t * License URI: http://www.gnu.org/licenses/gpl-2.0.html\n",
            "\t\t\t\t */\n",
            "\n",
            "\t\t\t\t/**\n",
            "\t\t\t\t * Be explicit about this styling only applying to spans,\n",
            "\t\t\t\t * since that's the default markup that's returned by\n",
            "\t\t\t\t * Subtitles. If a developer overrides the default subtitles\n",
            "\t\t\t\t * markup with another element or class, we don't want to stomp\n",
            "\t\t\t\t * on that.\n",
            "\t\t\t\t *\n",
            "\t\t\t\t * @since 1.0.0\n",
            "\t\t\t\t */\n",
            "\t\t\t\tspan.entry-subtitle {\n",
            "\t\t\t\t\tdisplay: block; /* Put subtitles on their own line by default. */\n",
            "\t\t\t\t\tfont-size: 0.53333333333333em; /* Sensible scaling. It's assumed that post titles will be wrapped in heading tags. */\n",
            "\t\t\t\t}\n",
            "\t\t\t\t/**\n",
            "\t\t\t\t * If subtitles are shown in comment areas, we'll hide them by default.\n",
            "\t\t\t\t *\n",
            "\t\t\t\t * @since 1.0.5\n",
            "\t\t\t\t */\n",
            "\t\t\t\t#comments .comments-title span.entry-subtitle {\n",
            "\t\t\t\t\tdisplay: none;\n",
            "\t\t\t\t}\n",
            "\t\t\t</style>\t<style type=\"text/css\" id=\"twentythirteen-header-css\">\n",
            "\t\t\t.site-header {\n",
            "\t\t\tbackground: url(http://www.ipea.gov.br/cartadeconjuntura/wp-content/uploads/2018/08/180823_topo_blog.jpg) no-repeat scroll top;\n",
            "\t\t\tbackground-size: 1600px auto;\n",
            "\t\t}\n",
            "\t\t@media (max-width: 767px) {\n",
            "\t\t\t.site-header {\n",
            "\t\t\t\tbackground-size: 768px auto;\n",
            "\t\t\t}\n",
            "\t\t}\n",
            "\t\t@media (max-width: 359px) {\n",
            "\t\t\t.site-header {\n",
            "\t\t\t\tbackground-size: 360px auto;\n",
            "\t\t\t}\n",
            "\t\t}\n",
            "\t\t</style>\n",
            "\t<script>\r\n",
            "  (function(i,s,o,g,r,a,m){i['GoogleAnalyticsObject']=r;i[r]=i[r]||function(){\r\n",
            "  (i[r].q=i[r].q||[]).push(arguments)},i[r].l=1*new Date();a=s.createElement(o),\r\n",
            "  m=s.getElementsByTagName(o)[0];a.async=1;a.src=g;m.parentNode.insertBefore(a,m)\r\n",
            "  })(window,document,'script','https://www.google-analytics.com/analytics.js','ga');\r\n",
            "\r\n",
            "  ga('create', 'UA-86542392-1', 'auto');\r\n",
            "  ga('send', 'pageview');\r\n",
            "\r\n",
            "</script>\r\n",
            "\r\n",
            "</head>\r\n",
            "\r\n",
            "<body class=\"page page-id-2 page-template-default sidebar\">\r\n",
            "\t<div id=\"page\" class=\"hfeed site\">\r\n",
            "\t\t<header id=\"masthead\" class=\"site-header\" role=\"banner\">\r\n",
            "\t\t\t<a class=\"home-link\" href=\"http://www.ipea.gov.br/cartadeconjuntura/\" title=\"Carta de Conjuntura\" rel=\"home\" style=\"float:left;max-width:660px;\">\r\n",
            "\t\t\t\t<h1 class=\"site-title\">Carta de Conjuntura</h1>\r\n",
            "\t\t\t\t<h2 class=\"site-description\"></h2>\r\n",
            "\t\t\t</a>\r\n",
            "\t\t\t\r\n",
            "\t\t\t<!-- inserido manualmente -->\r\n",
            "\t\t\t<a href=\"http://www.ipea.gov.br\" style=\"float:right;min-height:130px;padding:30px 60px 0 0;\">\r\n",
            "\t\t\t\t<img src=\"http://www.ipea.gov.br/portal/images/logo_ipea_blog_conjuntura.png\" />\r\n",
            "\t\t\t</a>\r\n",
            "\t\t\t<!-- fim -->\r\n",
            "\r\n",
            "\t\t\t<div id=\"navbar\" class=\"navbar\" style=\"clear:both;\">\r\n",
            "\t\t\t\t<nav id=\"site-navigation\" class=\"navigation main-navigation\" role=\"navigation\">\r\n",
            "\t\t\t\t\t<button class=\"menu-toggle\">Menu</button>\r\n",
            "\t\t\t\t\t<a class=\"screen-reader-text skip-link\" href=\"#content\" title=\"Pular para o conteúdo\">Pular para o conteúdo</a>\r\n",
            "\t\t\t\t\t<div class=\"menu-menu-container\"><ul id=\"primary-menu\" class=\"nav-menu\"><li id=\"menu-item-22\" class=\"menu-item menu-item-type-taxonomy menu-item-object-category menu-item-22\"><a href=\"http://www.ipea.gov.br/cartadeconjuntura/index.php/category/sumario-executivo/\">Visão Geral</a></li>\n",
            "<li id=\"menu-item-212\" class=\"menu-item menu-item-type-taxonomy menu-item-object-category menu-item-212\"><a href=\"http://www.ipea.gov.br/cartadeconjuntura/index.php/category/indicadores-ipea/\">Indicadores Ipea</a></li>\n",
            "<li id=\"menu-item-25\" class=\"menu-item menu-item-type-taxonomy menu-item-object-category menu-item-25\"><a href=\"http://www.ipea.gov.br/cartadeconjuntura/index.php/category/atividade-economica/\">Atividade Econômica</a></li>\n",
            "<li id=\"menu-item-28\" class=\"menu-item menu-item-type-taxonomy menu-item-object-category menu-item-28\"><a href=\"http://www.ipea.gov.br/cartadeconjuntura/index.php/category/mercado-de-trabalho/\">Mercado de Trabalho</a></li>\n",
            "<li id=\"menu-item-31\" class=\"menu-item menu-item-type-taxonomy menu-item-object-category menu-item-31\"><a href=\"http://www.ipea.gov.br/cartadeconjuntura/index.php/category/inflacao/\">Inflação</a></li>\n",
            "<li id=\"menu-item-40\" class=\"menu-item menu-item-type-taxonomy menu-item-object-category menu-item-40\"><a href=\"http://www.ipea.gov.br/cartadeconjuntura/index.php/category/setor-externo/\">Setor Externo</a></li>\n",
            "<li id=\"menu-item-41\" class=\"menu-item menu-item-type-taxonomy menu-item-object-category menu-item-41\"><a href=\"http://www.ipea.gov.br/cartadeconjuntura/index.php/category/moeda-e-credito/\">Moeda e Crédito</a></li>\n",
            "<li id=\"menu-item-42\" class=\"menu-item menu-item-type-taxonomy menu-item-object-category menu-item-42\"><a href=\"http://www.ipea.gov.br/cartadeconjuntura/index.php/category/financas-publicas/\">Finanças Públicas</a></li>\n",
            "<li id=\"menu-item-43\" class=\"menu-item menu-item-type-taxonomy menu-item-object-category menu-item-43\"><a href=\"http://www.ipea.gov.br/cartadeconjuntura/index.php/category/economia-mundial/\">Economia Mundial</a></li>\n",
            "<li id=\"menu-item-1006\" class=\"menu-item menu-item-type-taxonomy menu-item-object-category menu-item-1006\"><a href=\"http://www.ipea.gov.br/cartadeconjuntura/index.php/category/agropecuaria/\">Agropecuária</a></li>\n",
            "<li id=\"menu-item-119\" class=\"menu-item menu-item-type-post_type menu-item-object-page menu-item-119\"><a href=\"http://www.ipea.gov.br/cartadeconjuntura/index.php/equipe/\">Equipe</a></li>\n",
            "</ul></div>\t\t\t\t\t<form role=\"search\" method=\"get\" class=\"search-form\" action=\"http://www.ipea.gov.br/cartadeconjuntura/\">\n",
            "\t\t\t\t<label>\n",
            "\t\t\t\t\t<span class=\"screen-reader-text\">Pesquisar por:</span>\n",
            "\t\t\t\t\t<input type=\"search\" class=\"search-field\" placeholder=\"Pesquisar &hellip;\" value=\"\" name=\"s\" title=\"Pesquisar por:\" />\n",
            "\t\t\t\t</label>\n",
            "\t\t\t\t<input type=\"submit\" class=\"search-submit\" value=\"Pesquisar\" />\n",
            "\t\t\t</form>\t\t\t\t</nav><!-- #site-navigation -->\r\n",
            "\t\t\t</div><!-- #navbar -->\r\n",
            "\t\t</header><!-- #masthead -->\r\n",
            "\r\n",
            "\t\t<div id=\"main\" class=\"site-main\">\r\n",
            "\r\n",
            "\t<div id=\"primary\" class=\"content-area\">\r\n",
            "\t\t<div id=\"content\" class=\"site-content\" role=\"main\">\r\n",
            "\r\n",
            "\t\t\t\t\t\t\r\n",
            "\t\t\t\t<article id=\"post-2\" class=\"post-2 page type-page status-publish hentry\">\r\n",
            "\t\t\t\t\t<header class=\"entry-header\">\r\n",
            "\t\t\t\t\t\t\r\n",
            "\t\t\t\t\t\t<h1 class=\"entry-title\">Séries de Estatísticas Conjunturais</h1>\r\n",
            "\t\t\t\t\t</header><!-- .entry-header -->\r\n",
            "\r\n",
            "\t\t\t\t\t<div class=\"entry-content\">\r\n",
            "\t\t\t\t\t\t<p><a href=\"https://www.ipea.gov.br/cartadeconjuntura/wp-content/uploads/2021/09/210913_atividade_economica.xlsx\">Atividade Econômica (xlsx)</a><br />\n",
            "<a href=\"https://www.ipea.gov.br/cartadeconjuntura/wp-content/uploads/2021/09/210913_emprego_e_renda.xlsx\">Emprego e Renda (xlsx)</a><br />\n",
            "<a href=\"https://www.ipea.gov.br/cartadeconjuntura/wp-content/uploads/2021/09/210913_inflacao.xlsx\">Inflação (xlsx)</a><br />\n",
            "<a href=\"https://www.ipea.gov.br/cartadeconjuntura/wp-content/uploads/2021/09/210913_setor_externo.xlsx\">Setor Externo (xlsx)</a><br />\n",
            "<a href=\"https://www.ipea.gov.br/cartadeconjuntura/wp-content/uploads/2021/09/210913_politica_monetaria.xlsx\">Política Monetária (xlsx)</a><br />\n",
            "<a href=\"https://www.ipea.gov.br/cartadeconjuntura/wp-content/uploads/2021/09/210913_financas_publicas.xlsx\">Finanças Públicas (xlsx)</a><br />\n",
            "<a href=\"https://www.ipea.gov.br/cartadeconjuntura/wp-content/uploads/2021/09/210913_economia_mundial.xlsx\">Economia Mundial (xlsx)</a><br />\n",
            "<a href=\"https://www.ipea.gov.br/cartadeconjuntura/wp-content/uploads/2021/09/210913_series_historicas.xlsx\">Séries Históricas (xlsx)</a></p>\n",
            "<div id=\"gtx-trans\" style=\"position: absolute; left: 108px; top: 153px;\"></div>\n",
            "\t\t\t\t\t\t\t\t\t\t\t</div><!-- .entry-content -->\r\n",
            "\r\n",
            "\t\t\t\t\t<footer class=\"entry-meta\">\r\n",
            "\t\t\t\t\t\t\t\t\t\t\t</footer><!-- .entry-meta -->\r\n",
            "\t\t\t\t</article><!-- #post -->\r\n",
            "\r\n",
            "\t\t\t\t\t\t\t\r\n",
            "\t\t</div><!-- #content -->\r\n",
            "\t</div><!-- #primary -->\r\n",
            "\r\n",
            "\t<div id=\"tertiary\" class=\"sidebar-container\" role=\"complementary\">\n",
            "\t\t<div class=\"sidebar-inner\">\n",
            "\t\t\t<div class=\"widget-area\">\n",
            "\t\t\t\t<aside id=\"text-7\" class=\"widget widget_text\"><h3 class=\"widget-title\">Version</h3>\t\t\t<div class=\"textwidget\"><table width=\"50%\" border=\"0\" cellspacing=\"0\" cellpadding=\"0\">\r\n",
            "  <tbody>\r\n",
            "    <tr>\r\n",
            "      <td><a href=\"http://www.ipea.gov.br/cartadeconjuntura/index.php/category/brazilian-economic-outlook/\" ><img src=\"http://www.ipea.gov.br/cartadeconjuntura/wp-content/uploads/2017/11/bandeira_inglaterra.jpg\" width=\"40\" height=\"20\"/>&nbsp English</a></td>\r\n",
            "      <td><a href=\"http://www.ipea.gov.br/cartadeconjuntura/index.php/category/newsletter-landwirtschaft/\" ><img src=\"http://www.ipea.gov.br/cartadeconjuntura/wp-content/uploads/2020/04/bandeira_alemanha.jpg\" width=\"40\" height=\"20\"/>&nbsp Deutsch</a></td>\r\n",
            "    </tr>\r\n",
            "  </tbody>\r\n",
            "</table></div>\n",
            "\t\t</aside><aside id=\"text-2\" class=\"widget widget_text\"><h3 class=\"widget-title\">Redes sociais do Ipea</h3>\t\t\t<div class=\"textwidget\"><table width=\"100%\" border=\"0\" cellspacing=\"0\" cellpadding=\"2\">\r\n",
            "  <tr>\r\n",
            "    <td><a href=\"https://www.youtube.com/user/agenciaipea\" target=\"_blank\"><img src=\"http://www.ipea.gov.br/cartadeconjuntura/wp-content/uploads/2015/08/icon_youtube.jpg\" width=\"40\" height=\"40\"></a></td>\r\n",
            "    <td><a href=\"https://twitter.com/ipeaonline\" target=\"_blank\"><img src=\"http://www.ipea.gov.br/cartadeconjuntura/wp-content/uploads/2015/08/icon_twitter.jpg\" width=\"40\" height=\"40\"></a></td>\r\n",
            "    <td><a href=\"https://www.facebook.com/ipeaonline\" target=\"_blank\"><img src=\"http://www.ipea.gov.br/cartadeconjuntura/wp-content/uploads/2015/08/icon_facebook.jpg\" width=\"40\" height=\"40\"></a></td>\r\n",
            "    <td><!--<a href=\"https://plus.google.com/+agenciaipea/posts\" target=\"_blank\"><img src=\"http://www.ipea.gov.br/cartadeconjuntura/wp-content/uploads/2015/08/icon_g.jpg\" width=\"40\" height=\"40\"></a>--></td>\r\n",
            "    <td><!--<a href=\"https://www.flickr.com/photos/ipeaonline/sets/\" target=\"_blank\"><img src=\"http://www.ipea.gov.br/cartadeconjuntura/wp-content/uploads/2015/08/icon_flickr.jpg\" width=\"40\" height=\"40\"></a>--></td>\r\n",
            "  </tr>\r\n",
            "</table></div>\n",
            "\t\t</aside><aside id=\"text-3\" class=\"widget widget_text\">\t\t\t<div class=\"textwidget\"><p align=\"center\"><a href=\"http://www.ipea.gov.br/portal/index.php?option=com_alphacontent&view=alphacontent&Itemid=369\" target=\"_blank\"><img src=\"http://www.ipea.gov.br/cartadeconjuntura/wp-content/uploads/2017/02/capa_carta_conjuntura_2017.jpg\" width=\"86\" height=\"120\"><br>\r\n",
            "Acessar todas as edições</a></p></div>\n",
            "\t\t</aside><aside id=\"s2_form_widget-2\" class=\"widget s2_form_widget\"><h3 class=\"widget-title\">Cadastre-se</h3><div class=\"search\">neste espaço para receber, por e-mail, notificações automáticas sobre novas publicações da Carta de Conjuntura.<form method=\"post\"><input type=\"hidden\" name=\"ip\" value=\"177.15.131.137\" /><span style=\"display:none !important\"><label for=\"name\">Leave Blank:</label><input type=\"text\" id=\"name\" name=\"name\" /><label for=\"uri\">Do Not Change:</label><input type=\"text\" id=\"uri\" name=\"uri\" value=\"http://\" /></span><p><label for=\"s2email\">Seu email:</label><br /><input type=\"text\" name=\"email\" id=\"s2email\" value=\"Digite o endereço de email...\" size=\"20\" onfocus=\"if (this.value == 'Digite o endereço de email...') {this.value = '';}\" onblur=\"if (this.value == '') {this.value = 'Digite o endereço de email...';}\" /></p><p><input type=\"submit\" name=\"subscribe\" value=\"Assinar\" />&nbsp;<input type=\"submit\" name=\"unsubscribe\" value=\"Cancelar assinatura\" /></p></form>\r\n",
            "</div></aside><aside id=\"text-5\" class=\"widget widget_text\">\t\t\t<div class=\"textwidget\"><a href=\"http://www.ipea.gov.br/cartadeconjuntura/index.php/series-estatisticas-conjunturais-2/\"><font style=\"font-size:15px\">Acesse as Séries Estatísticas Conjunturais</font>\r\n",
            "</a></div>\n",
            "\t\t</aside>\t\t<aside id=\"recent-posts-4\" class=\"widget widget_recent_entries\">\t\t<h3 class=\"widget-title\">Tópicos recentes</h3>\t\t<ul>\n",
            "\t\t\t\t\t<li>\n",
            "\t\t\t\t<a href=\"http://www.ipea.gov.br/cartadeconjuntura/index.php/2021/10/a-crise-da-evergrande-e-as-consequencias-para-a-mineracao-brasileira/\">A crise da Evergrande e as consequências para a mineração brasileira</a>\n",
            "\t\t\t\t\t\t\t<span class=\"post-date\">4 de outubro de 2021</span>\n",
            "\t\t\t\t\t\t</li>\n",
            "\t\t\t\t\t<li>\n",
            "\t\t\t\t<a href=\"http://www.ipea.gov.br/cartadeconjuntura/index.php/2021/10/indicador-ipea-de-fbcf-julho-de-2021/\">Indicador Ipea de FBCF – Julho de 2021</a>\n",
            "\t\t\t\t\t\t\t<span class=\"post-date\">4 de outubro de 2021</span>\n",
            "\t\t\t\t\t\t</li>\n",
            "\t\t\t\t\t<li>\n",
            "\t\t\t\t<a href=\"http://www.ipea.gov.br/cartadeconjuntura/index.php/2021/09/visao-geral-da-conjuntura-12/\">Visão Geral da Conjuntura</a>\n",
            "\t\t\t\t\t\t\t<span class=\"post-date\">30 de setembro de 2021</span>\n",
            "\t\t\t\t\t\t</li>\n",
            "\t\t\t\t\t<li>\n",
            "\t\t\t\t<a href=\"http://www.ipea.gov.br/cartadeconjuntura/index.php/2021/09/indicadores-mensais-de-industria-comercio-e-servicos-2/\">Indicadores mensais de indústria, comércio e serviços</a>\n",
            "\t\t\t\t\t\t\t<span class=\"post-date\">30 de setembro de 2021</span>\n",
            "\t\t\t\t\t\t</li>\n",
            "\t\t\t\t\t<li>\n",
            "\t\t\t\t<a href=\"http://www.ipea.gov.br/cartadeconjuntura/index.php/2021/09/investimento-liquido-e-estoque-de-capital-segundo-trimestre-de-2021/\">Investimento líquido e estoque de capital – segundo trimestre de 2021</a>\n",
            "\t\t\t\t\t\t\t<span class=\"post-date\">29 de setembro de 2021</span>\n",
            "\t\t\t\t\t\t</li>\n",
            "\t\t\t\t</ul>\n",
            "\t\t</aside><aside id=\"archives-3\" class=\"widget widget_archive\"><h3 class=\"widget-title\">Arquivos</h3>\t\t<label class=\"screen-reader-text\" for=\"archives-dropdown-3\">Arquivos</label>\n",
            "\t\t<select id=\"archives-dropdown-3\" name=\"archive-dropdown\" onchange='document.location.href=this.options[this.selectedIndex].value;'>\n",
            "\t\t\t\n",
            "\t\t\t<option value=\"\">Selecionar o mês</option>\n",
            "\t\t\t\t<option value='http://www.ipea.gov.br/cartadeconjuntura/index.php/2021/10/'> outubro 2021 &nbsp;(2)</option>\n",
            "\t<option value='http://www.ipea.gov.br/cartadeconjuntura/index.php/2021/09/'> setembro 2021 &nbsp;(14)</option>\n",
            "\t<option value='http://www.ipea.gov.br/cartadeconjuntura/index.php/2021/08/'> agosto 2021 &nbsp;(13)</option>\n",
            "\t<option value='http://www.ipea.gov.br/cartadeconjuntura/index.php/2021/07/'> julho 2021 &nbsp;(7)</option>\n",
            "\t<option value='http://www.ipea.gov.br/cartadeconjuntura/index.php/2021/06/'> junho 2021 &nbsp;(14)</option>\n",
            "\t<option value='http://www.ipea.gov.br/cartadeconjuntura/index.php/2021/05/'> maio 2021 &nbsp;(11)</option>\n",
            "\t<option value='http://www.ipea.gov.br/cartadeconjuntura/index.php/2021/04/'> abril 2021 &nbsp;(8)</option>\n",
            "\t<option value='http://www.ipea.gov.br/cartadeconjuntura/index.php/2021/03/'> março 2021 &nbsp;(14)</option>\n",
            "\t<option value='http://www.ipea.gov.br/cartadeconjuntura/index.php/2021/02/'> fevereiro 2021 &nbsp;(9)</option>\n",
            "\t<option value='http://www.ipea.gov.br/cartadeconjuntura/index.php/2021/01/'> janeiro 2021 &nbsp;(6)</option>\n",
            "\t<option value='http://www.ipea.gov.br/cartadeconjuntura/index.php/2020/12/'> dezembro 2020 &nbsp;(11)</option>\n",
            "\t<option value='http://www.ipea.gov.br/cartadeconjuntura/index.php/2020/11/'> novembro 2020 &nbsp;(20)</option>\n",
            "\t<option value='http://www.ipea.gov.br/cartadeconjuntura/index.php/2020/10/'> outubro 2020 &nbsp;(14)</option>\n",
            "\t<option value='http://www.ipea.gov.br/cartadeconjuntura/index.php/2020/09/'> setembro 2020 &nbsp;(13)</option>\n",
            "\t<option value='http://www.ipea.gov.br/cartadeconjuntura/index.php/2020/08/'> agosto 2020 &nbsp;(13)</option>\n",
            "\t<option value='http://www.ipea.gov.br/cartadeconjuntura/index.php/2020/07/'> julho 2020 &nbsp;(15)</option>\n",
            "\t<option value='http://www.ipea.gov.br/cartadeconjuntura/index.php/2020/06/'> junho 2020 &nbsp;(15)</option>\n",
            "\t<option value='http://www.ipea.gov.br/cartadeconjuntura/index.php/2020/05/'> maio 2020 &nbsp;(9)</option>\n",
            "\t<option value='http://www.ipea.gov.br/cartadeconjuntura/index.php/2020/04/'> abril 2020 &nbsp;(9)</option>\n",
            "\t<option value='http://www.ipea.gov.br/cartadeconjuntura/index.php/2020/03/'> março 2020 &nbsp;(10)</option>\n",
            "\t<option value='http://www.ipea.gov.br/cartadeconjuntura/index.php/2020/02/'> fevereiro 2020 &nbsp;(8)</option>\n",
            "\t<option value='http://www.ipea.gov.br/cartadeconjuntura/index.php/2020/01/'> janeiro 2020 &nbsp;(4)</option>\n",
            "\t<option value='http://www.ipea.gov.br/cartadeconjuntura/index.php/2019/12/'> dezembro 2019 &nbsp;(13)</option>\n",
            "\t<option value='http://www.ipea.gov.br/cartadeconjuntura/index.php/2019/11/'> novembro 2019 &nbsp;(8)</option>\n",
            "\t<option value='http://www.ipea.gov.br/cartadeconjuntura/index.php/2019/10/'> outubro 2019 &nbsp;(4)</option>\n",
            "\t<option value='http://www.ipea.gov.br/cartadeconjuntura/index.php/2019/09/'> setembro 2019 &nbsp;(10)</option>\n",
            "\t<option value='http://www.ipea.gov.br/cartadeconjuntura/index.php/2019/08/'> agosto 2019 &nbsp;(11)</option>\n",
            "\t<option value='http://www.ipea.gov.br/cartadeconjuntura/index.php/2019/07/'> julho 2019 &nbsp;(8)</option>\n",
            "\t<option value='http://www.ipea.gov.br/cartadeconjuntura/index.php/2019/06/'> junho 2019 &nbsp;(7)</option>\n",
            "\t<option value='http://www.ipea.gov.br/cartadeconjuntura/index.php/2019/05/'> maio 2019 &nbsp;(13)</option>\n",
            "\t<option value='http://www.ipea.gov.br/cartadeconjuntura/index.php/2019/04/'> abril 2019 &nbsp;(9)</option>\n",
            "\t<option value='http://www.ipea.gov.br/cartadeconjuntura/index.php/2019/03/'> março 2019 &nbsp;(9)</option>\n",
            "\t<option value='http://www.ipea.gov.br/cartadeconjuntura/index.php/2019/02/'> fevereiro 2019 &nbsp;(9)</option>\n",
            "\t<option value='http://www.ipea.gov.br/cartadeconjuntura/index.php/2019/01/'> janeiro 2019 &nbsp;(4)</option>\n",
            "\t<option value='http://www.ipea.gov.br/cartadeconjuntura/index.php/2018/12/'> dezembro 2018 &nbsp;(11)</option>\n",
            "\t<option value='http://www.ipea.gov.br/cartadeconjuntura/index.php/2018/11/'> novembro 2018 &nbsp;(16)</option>\n",
            "\t<option value='http://www.ipea.gov.br/cartadeconjuntura/index.php/2018/10/'> outubro 2018 &nbsp;(7)</option>\n",
            "\t<option value='http://www.ipea.gov.br/cartadeconjuntura/index.php/2018/09/'> setembro 2018 &nbsp;(12)</option>\n",
            "\t<option value='http://www.ipea.gov.br/cartadeconjuntura/index.php/2018/08/'> agosto 2018 &nbsp;(8)</option>\n",
            "\t<option value='http://www.ipea.gov.br/cartadeconjuntura/index.php/2018/07/'> julho 2018 &nbsp;(8)</option>\n",
            "\t<option value='http://www.ipea.gov.br/cartadeconjuntura/index.php/2018/06/'> junho 2018 &nbsp;(12)</option>\n",
            "\t<option value='http://www.ipea.gov.br/cartadeconjuntura/index.php/2018/05/'> maio 2018 &nbsp;(12)</option>\n",
            "\t<option value='http://www.ipea.gov.br/cartadeconjuntura/index.php/2018/04/'> abril 2018 &nbsp;(12)</option>\n",
            "\t<option value='http://www.ipea.gov.br/cartadeconjuntura/index.php/2018/03/'> março 2018 &nbsp;(12)</option>\n",
            "\t<option value='http://www.ipea.gov.br/cartadeconjuntura/index.php/2018/02/'> fevereiro 2018 &nbsp;(11)</option>\n",
            "\t<option value='http://www.ipea.gov.br/cartadeconjuntura/index.php/2018/01/'> janeiro 2018 &nbsp;(6)</option>\n",
            "\t<option value='http://www.ipea.gov.br/cartadeconjuntura/index.php/2017/12/'> dezembro 2017 &nbsp;(13)</option>\n",
            "\t<option value='http://www.ipea.gov.br/cartadeconjuntura/index.php/2017/11/'> novembro 2017 &nbsp;(10)</option>\n",
            "\t<option value='http://www.ipea.gov.br/cartadeconjuntura/index.php/2017/10/'> outubro 2017 &nbsp;(7)</option>\n",
            "\t<option value='http://www.ipea.gov.br/cartadeconjuntura/index.php/2017/09/'> setembro 2017 &nbsp;(12)</option>\n",
            "\t<option value='http://www.ipea.gov.br/cartadeconjuntura/index.php/2017/08/'> agosto 2017 &nbsp;(10)</option>\n",
            "\t<option value='http://www.ipea.gov.br/cartadeconjuntura/index.php/2017/07/'> julho 2017 &nbsp;(5)</option>\n",
            "\t<option value='http://www.ipea.gov.br/cartadeconjuntura/index.php/2017/06/'> junho 2017 &nbsp;(12)</option>\n",
            "\t<option value='http://www.ipea.gov.br/cartadeconjuntura/index.php/2017/05/'> maio 2017 &nbsp;(7)</option>\n",
            "\t<option value='http://www.ipea.gov.br/cartadeconjuntura/index.php/2017/04/'> abril 2017 &nbsp;(8)</option>\n",
            "\t<option value='http://www.ipea.gov.br/cartadeconjuntura/index.php/2017/03/'> março 2017 &nbsp;(12)</option>\n",
            "\t<option value='http://www.ipea.gov.br/cartadeconjuntura/index.php/2017/02/'> fevereiro 2017 &nbsp;(3)</option>\n",
            "\t<option value='http://www.ipea.gov.br/cartadeconjuntura/index.php/2017/01/'> janeiro 2017 &nbsp;(2)</option>\n",
            "\t<option value='http://www.ipea.gov.br/cartadeconjuntura/index.php/2016/12/'> dezembro 2016 &nbsp;(11)</option>\n",
            "\t<option value='http://www.ipea.gov.br/cartadeconjuntura/index.php/2016/11/'> novembro 2016 &nbsp;(4)</option>\n",
            "\t<option value='http://www.ipea.gov.br/cartadeconjuntura/index.php/2016/10/'> outubro 2016 &nbsp;(5)</option>\n",
            "\t<option value='http://www.ipea.gov.br/cartadeconjuntura/index.php/2016/09/'> setembro 2016 &nbsp;(6)</option>\n",
            "\t<option value='http://www.ipea.gov.br/cartadeconjuntura/index.php/2016/08/'> agosto 2016 &nbsp;(3)</option>\n",
            "\t<option value='http://www.ipea.gov.br/cartadeconjuntura/index.php/2016/07/'> julho 2016 &nbsp;(5)</option>\n",
            "\t<option value='http://www.ipea.gov.br/cartadeconjuntura/index.php/2016/06/'> junho 2016 &nbsp;(6)</option>\n",
            "\t<option value='http://www.ipea.gov.br/cartadeconjuntura/index.php/2016/05/'> maio 2016 &nbsp;(7)</option>\n",
            "\t<option value='http://www.ipea.gov.br/cartadeconjuntura/index.php/2016/04/'> abril 2016 &nbsp;(4)</option>\n",
            "\n",
            "\t\t</select>\n",
            "</aside>\t\t\t</div><!-- .widget-area -->\n",
            "\t\t</div><!-- .sidebar-inner -->\n",
            "\t</div><!-- #tertiary -->\n",
            "\r\n",
            "\t\t</div><!-- #main -->\r\n",
            "\t\t<footer id=\"colophon\" class=\"site-footer\" role=\"contentinfo\">\r\n",
            "\t\t\t\r\n",
            "\t\t\t<div class=\"site-info\">\r\n",
            "\t\t\t\t\t\t\t\t<a href=\"http://wordpress.org/\" title=\"Plataforma Semântica de Publicação Pessoal \"></a>\r\n",
            "<p class=\"rodape\" align=\"center\">Todo o conteúdo deste site está publicado sob a Licença Creative Commons Atribuição 2.5 Brasil.<br>\r\n",
            "Ipea - Instituto de Pesquisa Econômica Aplicada</p>\r\n",
            "\t\t\t</div><!-- .site-info -->\r\n",
            "\t\t</footer><!-- #colophon -->\r\n",
            "\t</div><!-- #page -->\r\n",
            "\t<script type='text/javascript' src='http://www.ipea.gov.br/cartadeconjuntura/wp-content/plugins/contact-form-7/includes/js/jquery.form.min.js?ver=3.51.0-2014.06.20'></script>\n",
            "<script type='text/javascript'>\n",
            "/* <![CDATA[ */\n",
            "var _wpcf7 = {\"loaderUrl\":\"http:\\/\\/www.ipea.gov.br\\/cartadeconjuntura\\/wp-content\\/plugins\\/contact-form-7\\/images\\/ajax-loader.gif\",\"sending\":\"Enviando ...\"};\n",
            "/* ]]> */\n",
            "</script>\n",
            "<script type='text/javascript' src='http://www.ipea.gov.br/cartadeconjuntura/wp-content/plugins/contact-form-7/includes/js/scripts.js?ver=4.2.2'></script>\n",
            "<script type='text/javascript' src='http://www.ipea.gov.br/cartadeconjuntura/wp-includes/js/comment-reply.min.js?ver=4.2.9'></script>\n",
            "<script type='text/javascript' src='http://www.ipea.gov.br/cartadeconjuntura/wp-content/themes/twentythirteen/js/functions.js?ver=20150330'></script>\n",
            "</body>\r\n",
            "</html>\n"
          ]
        }
      ]
    },
    {
      "cell_type": "markdown",
      "metadata": {
        "id": "ylpiIYanRSGM"
      },
      "source": [
        "Dei ctrl+F em \"<option value=\" e só encontrei nas linhas de dados."
      ]
    },
    {
      "cell_type": "code",
      "metadata": {
        "id": "UiazGF2CRXZO"
      },
      "source": [
        "partes = html.split('<div class=\"entry-content\">') # Parte que não precisamos"
      ],
      "execution_count": null,
      "outputs": []
    },
    {
      "cell_type": "code",
      "metadata": {
        "colab": {
          "base_uri": "https://localhost:8080/",
          "height": 137
        },
        "id": "Ep9_kw00WJVO",
        "outputId": "d00965dc-9c2b-4783-bf98-2b8c50d2a024"
      },
      "source": [
        "partes[0]"
      ],
      "execution_count": null,
      "outputs": [
        {
          "output_type": "execute_result",
          "data": {
            "application/vnd.google.colaboratory.intrinsic+json": {
              "type": "string"
            },
            "text/plain": [
              "'<!DOCTYPE html>\\r\\n<!--[if IE 7]>\\r\\n<html class=\"ie ie7\" lang=\"pt-BR\">\\r\\n<![endif]-->\\r\\n<!--[if IE 8]>\\r\\n<html class=\"ie ie8\" lang=\"pt-BR\">\\r\\n<![endif]-->\\r\\n<!--[if !(IE 7) & !(IE 8)]><!-->\\r\\n<html lang=\"pt-BR\">\\r\\n<!--<![endif]-->\\r\\n<head>\\r\\n\\t<meta charset=\"UTF-8\">\\r\\n\\t<meta name=\"viewport\" content=\"width=device-width\">\\r\\n\\t<title>Séries de Estatísticas Conjunturais | Carta de Conjuntura</title>\\r\\n\\t<link rel=\"profile\" href=\"http://gmpg.org/xfn/11\">\\r\\n\\t<link rel=\"pingback\" href=\"http://www.ipea.gov.br/cartadeconjuntura/xmlrpc.php\">\\r\\n\\t<!--[if lt IE 9]>\\r\\n\\t<script src=\"http://www.ipea.gov.br/cartadeconjuntura/wp-content/themes/twentythirteen/js/html5.js\"></script>\\r\\n\\t<![endif]-->\\r\\n\\t<link rel=\"alternate\" type=\"application/rss+xml\" title=\"Feed de Carta de Conjuntura &raquo;\" href=\"http://www.ipea.gov.br/cartadeconjuntura/index.php/feed/\" />\\n<link rel=\"alternate\" type=\"application/rss+xml\" title=\"Carta de Conjuntura &raquo;  Feed de comentários\" href=\"http://www.ipea.gov.br/cartadeconjuntura/index.php/comments/feed/\" />\\n<link rel=\"alternate\" type=\"application/rss+xml\" title=\"Carta de Conjuntura &raquo; Séries de Estatísticas Conjunturais  Feed de comentários\" href=\"http://www.ipea.gov.br/cartadeconjuntura/index.php/series-estatisticas-conjunturais-2/feed/\" />\\n\\t\\t<script type=\"text/javascript\">\\n\\t\\t\\twindow._wpemojiSettings = {\"baseUrl\":\"http:\\\\/\\\\/s.w.org\\\\/images\\\\/core\\\\/emoji\\\\/72x72\\\\/\",\"ext\":\".png\",\"source\":{\"concatemoji\":\"http:\\\\/\\\\/www.ipea.gov.br\\\\/cartadeconjuntura\\\\/wp-includes\\\\/js\\\\/wp-emoji-release.min.js?ver=4.2.9\"}};\\n\\t\\t\\t!function(a,b,c){function d(a){var c=b.createElement(\"canvas\"),d=c.getContext&&c.getContext(\"2d\");return d&&d.fillText?(d.textBaseline=\"top\",d.font=\"600 32px Arial\",\"flag\"===a?(d.fillText(String.fromCharCode(55356,56812,55356,56807),0,0),c.toDataURL().length>3e3):(d.fillText(String.fromCharCode(55357,56835),0,0),0!==d.getImageData(16,16,1,1).data[0])):!1}function e(a){var c=b.createElement(\"script\");c.src=a,c.type=\"text/javascript\",b.getElementsByTagName(\"head\")[0].appendChild(c)}var f,g;c.supports={simple:d(\"simple\"),flag:d(\"flag\")},c.DOMReady=!1,c.readyCallback=function(){c.DOMReady=!0},c.supports.simple&&c.supports.flag||(g=function(){c.readyCallback()},b.addEventListener?(b.addEventListener(\"DOMContentLoaded\",g,!1),a.addEventListener(\"load\",g,!1)):(a.attachEvent(\"onload\",g),b.attachEvent(\"onreadystatechange\",function(){\"complete\"===b.readyState&&c.readyCallback()})),f=c.source||{},f.concatemoji?e(f.concatemoji):f.wpemoji&&f.twemoji&&(e(f.twemoji),e(f.wpemoji)))}(window,document,window._wpemojiSettings);\\n\\t\\t</script>\\n\\t\\t<style type=\"text/css\">\\nimg.wp-smiley,\\nimg.emoji {\\n\\tdisplay: inline !important;\\n\\tborder: none !important;\\n\\tbox-shadow: none !important;\\n\\theight: 1em !important;\\n\\twidth: 1em !important;\\n\\tmargin: 0 .07em !important;\\n\\tvertical-align: -0.1em !important;\\n\\tbackground: none !important;\\n\\tpadding: 0 !important;\\n}\\n</style>\\n<link rel=\\'stylesheet\\' id=\\'contact-form-7-css\\'  href=\\'http://www.ipea.gov.br/cartadeconjuntura/wp-content/plugins/contact-form-7/includes/css/styles.css?ver=4.2.2\\' type=\\'text/css\\' media=\\'all\\' />\\n<link rel=\\'stylesheet\\' id=\\'twentythirteen-fonts-css\\'  href=\\'//fonts.googleapis.com/css?family=Source+Sans+Pro%3A300%2C400%2C700%2C300italic%2C400italic%2C700italic%7CBitter%3A400%2C700&#038;subset=latin%2Clatin-ext\\' type=\\'text/css\\' media=\\'all\\' />\\n<link rel=\\'stylesheet\\' id=\\'genericons-css\\'  href=\\'http://www.ipea.gov.br/cartadeconjuntura/wp-content/themes/twentythirteen/genericons/genericons.css?ver=3.03\\' type=\\'text/css\\' media=\\'all\\' />\\n<link rel=\\'stylesheet\\' id=\\'twentythirteen-style-css\\'  href=\\'http://www.ipea.gov.br/cartadeconjuntura/wp-content/themes/twentythirteen/style.css?ver=2013-07-18\\' type=\\'text/css\\' media=\\'all\\' />\\n<!--[if lt IE 9]>\\n<link rel=\\'stylesheet\\' id=\\'twentythirteen-ie-css\\'  href=\\'http://www.ipea.gov.br/cartadeconjuntura/wp-content/themes/twentythirteen/css/ie.css?ver=2013-07-18\\' type=\\'text/css\\' media=\\'all\\' />\\n<![endif]-->\\n<script type=\\'text/javascript\\' src=\\'http://www.ipea.gov.br/cartadeconjuntura/wp-includes/js/jquery/jquery.js?ver=1.11.2\\'></script>\\n<script type=\\'text/javascript\\' src=\\'http://www.ipea.gov.br/cartadeconjuntura/wp-includes/js/jquery/jquery-migrate.min.js?ver=1.2.1\\'></script>\\n<link rel=\"EditURI\" type=\"application/rsd+xml\" title=\"RSD\" href=\"http://www.ipea.gov.br/cartadeconjuntura/xmlrpc.php?rsd\" />\\n<link rel=\"wlwmanifest\" type=\"application/wlwmanifest+xml\" href=\"http://www.ipea.gov.br/cartadeconjuntura/wp-includes/wlwmanifest.xml\" /> \\n<meta name=\"generator\" content=\"WordPress 4.2.9\" />\\n<link rel=\\'canonical\\' href=\\'http://www.ipea.gov.br/cartadeconjuntura/index.php/series-estatisticas-conjunturais-2/\\' />\\n<link rel=\\'shortlink\\' href=\\'http://www.ipea.gov.br/cartadeconjuntura/?p=2\\' />\\n\\t\\t\\t<style type=\"text/css\" media=\"screen\">\\n\\t\\t\\t\\t/**\\n\\t\\t\\t\\t * Plugin Name: Subtitles\\n\\t\\t\\t\\t * Plugin URI: http://wordpress.org/plugins/subtitles/\\n\\t\\t\\t\\t * Description: Easily add subtitles into your WordPress posts, pages, custom post types, and themes.\\n\\t\\t\\t\\t * Author: We Cobble\\n\\t\\t\\t\\t * Author URI: https://wecobble.com/\\n\\t\\t\\t\\t * Version: 2.2.0\\n\\t\\t\\t\\t * License: GNU General Public License v2 or later\\n\\t\\t\\t\\t * License URI: http://www.gnu.org/licenses/gpl-2.0.html\\n\\t\\t\\t\\t */\\n\\n\\t\\t\\t\\t/**\\n\\t\\t\\t\\t * Be explicit about this styling only applying to spans,\\n\\t\\t\\t\\t * since that\\'s the default markup that\\'s returned by\\n\\t\\t\\t\\t * Subtitles. If a developer overrides the default subtitles\\n\\t\\t\\t\\t * markup with another element or class, we don\\'t want to stomp\\n\\t\\t\\t\\t * on that.\\n\\t\\t\\t\\t *\\n\\t\\t\\t\\t * @since 1.0.0\\n\\t\\t\\t\\t */\\n\\t\\t\\t\\tspan.entry-subtitle {\\n\\t\\t\\t\\t\\tdisplay: block; /* Put subtitles on their own line by default. */\\n\\t\\t\\t\\t\\tfont-size: 0.53333333333333em; /* Sensible scaling. It\\'s assumed that post titles will be wrapped in heading tags. */\\n\\t\\t\\t\\t}\\n\\t\\t\\t\\t/**\\n\\t\\t\\t\\t * If subtitles are shown in comment areas, we\\'ll hide them by default.\\n\\t\\t\\t\\t *\\n\\t\\t\\t\\t * @since 1.0.5\\n\\t\\t\\t\\t */\\n\\t\\t\\t\\t#comments .comments-title span.entry-subtitle {\\n\\t\\t\\t\\t\\tdisplay: none;\\n\\t\\t\\t\\t}\\n\\t\\t\\t</style>\\t<style type=\"text/css\" id=\"twentythirteen-header-css\">\\n\\t\\t\\t.site-header {\\n\\t\\t\\tbackground: url(http://www.ipea.gov.br/cartadeconjuntura/wp-content/uploads/2018/08/180823_topo_blog.jpg) no-repeat scroll top;\\n\\t\\t\\tbackground-size: 1600px auto;\\n\\t\\t}\\n\\t\\t@media (max-width: 767px) {\\n\\t\\t\\t.site-header {\\n\\t\\t\\t\\tbackground-size: 768px auto;\\n\\t\\t\\t}\\n\\t\\t}\\n\\t\\t@media (max-width: 359px) {\\n\\t\\t\\t.site-header {\\n\\t\\t\\t\\tbackground-size: 360px auto;\\n\\t\\t\\t}\\n\\t\\t}\\n\\t\\t</style>\\n\\t<script>\\r\\n  (function(i,s,o,g,r,a,m){i[\\'GoogleAnalyticsObject\\']=r;i[r]=i[r]||function(){\\r\\n  (i[r].q=i[r].q||[]).push(arguments)},i[r].l=1*new Date();a=s.createElement(o),\\r\\n  m=s.getElementsByTagName(o)[0];a.async=1;a.src=g;m.parentNode.insertBefore(a,m)\\r\\n  })(window,document,\\'script\\',\\'https://www.google-analytics.com/analytics.js\\',\\'ga\\');\\r\\n\\r\\n  ga(\\'create\\', \\'UA-86542392-1\\', \\'auto\\');\\r\\n  ga(\\'send\\', \\'pageview\\');\\r\\n\\r\\n</script>\\r\\n\\r\\n</head>\\r\\n\\r\\n<body class=\"page page-id-2 page-template-default sidebar\">\\r\\n\\t<div id=\"page\" class=\"hfeed site\">\\r\\n\\t\\t<header id=\"masthead\" class=\"site-header\" role=\"banner\">\\r\\n\\t\\t\\t<a class=\"home-link\" href=\"http://www.ipea.gov.br/cartadeconjuntura/\" title=\"Carta de Conjuntura\" rel=\"home\" style=\"float:left;max-width:660px;\">\\r\\n\\t\\t\\t\\t<h1 class=\"site-title\">Carta de Conjuntura</h1>\\r\\n\\t\\t\\t\\t<h2 class=\"site-description\"></h2>\\r\\n\\t\\t\\t</a>\\r\\n\\t\\t\\t\\r\\n\\t\\t\\t<!-- inserido manualmente -->\\r\\n\\t\\t\\t<a href=\"http://www.ipea.gov.br\" style=\"float:right;min-height:130px;padding:30px 60px 0 0;\">\\r\\n\\t\\t\\t\\t<img src=\"http://www.ipea.gov.br/portal/images/logo_ipea_blog_conjuntura.png\" />\\r\\n\\t\\t\\t</a>\\r\\n\\t\\t\\t<!-- fim -->\\r\\n\\r\\n\\t\\t\\t<div id=\"navbar\" class=\"navbar\" style=\"clear:both;\">\\r\\n\\t\\t\\t\\t<nav id=\"site-navigation\" class=\"navigation main-navigation\" role=\"navigation\">\\r\\n\\t\\t\\t\\t\\t<button class=\"menu-toggle\">Menu</button>\\r\\n\\t\\t\\t\\t\\t<a class=\"screen-reader-text skip-link\" href=\"#content\" title=\"Pular para o conteúdo\">Pular para o conteúdo</a>\\r\\n\\t\\t\\t\\t\\t<div class=\"menu-menu-container\"><ul id=\"primary-menu\" class=\"nav-menu\"><li id=\"menu-item-22\" class=\"menu-item menu-item-type-taxonomy menu-item-object-category menu-item-22\"><a href=\"http://www.ipea.gov.br/cartadeconjuntura/index.php/category/sumario-executivo/\">Visão Geral</a></li>\\n<li id=\"menu-item-212\" class=\"menu-item menu-item-type-taxonomy menu-item-object-category menu-item-212\"><a href=\"http://www.ipea.gov.br/cartadeconjuntura/index.php/category/indicadores-ipea/\">Indicadores Ipea</a></li>\\n<li id=\"menu-item-25\" class=\"menu-item menu-item-type-taxonomy menu-item-object-category menu-item-25\"><a href=\"http://www.ipea.gov.br/cartadeconjuntura/index.php/category/atividade-economica/\">Atividade Econômica</a></li>\\n<li id=\"menu-item-28\" class=\"menu-item menu-item-type-taxonomy menu-item-object-category menu-item-28\"><a href=\"http://www.ipea.gov.br/cartadeconjuntura/index.php/category/mercado-de-trabalho/\">Mercado de Trabalho</a></li>\\n<li id=\"menu-item-31\" class=\"menu-item menu-item-type-taxonomy menu-item-object-category menu-item-31\"><a href=\"http://www.ipea.gov.br/cartadeconjuntura/index.php/category/inflacao/\">Inflação</a></li>\\n<li id=\"menu-item-40\" class=\"menu-item menu-item-type-taxonomy menu-item-object-category menu-item-40\"><a href=\"http://www.ipea.gov.br/cartadeconjuntura/index.php/category/setor-externo/\">Setor Externo</a></li>\\n<li id=\"menu-item-41\" class=\"menu-item menu-item-type-taxonomy menu-item-object-category menu-item-41\"><a href=\"http://www.ipea.gov.br/cartadeconjuntura/index.php/category/moeda-e-credito/\">Moeda e Crédito</a></li>\\n<li id=\"menu-item-42\" class=\"menu-item menu-item-type-taxonomy menu-item-object-category menu-item-42\"><a href=\"http://www.ipea.gov.br/cartadeconjuntura/index.php/category/financas-publicas/\">Finanças Públicas</a></li>\\n<li id=\"menu-item-43\" class=\"menu-item menu-item-type-taxonomy menu-item-object-category menu-item-43\"><a href=\"http://www.ipea.gov.br/cartadeconjuntura/index.php/category/economia-mundial/\">Economia Mundial</a></li>\\n<li id=\"menu-item-1006\" class=\"menu-item menu-item-type-taxonomy menu-item-object-category menu-item-1006\"><a href=\"http://www.ipea.gov.br/cartadeconjuntura/index.php/category/agropecuaria/\">Agropecuária</a></li>\\n<li id=\"menu-item-119\" class=\"menu-item menu-item-type-post_type menu-item-object-page menu-item-119\"><a href=\"http://www.ipea.gov.br/cartadeconjuntura/index.php/equipe/\">Equipe</a></li>\\n</ul></div>\\t\\t\\t\\t\\t<form role=\"search\" method=\"get\" class=\"search-form\" action=\"http://www.ipea.gov.br/cartadeconjuntura/\">\\n\\t\\t\\t\\t<label>\\n\\t\\t\\t\\t\\t<span class=\"screen-reader-text\">Pesquisar por:</span>\\n\\t\\t\\t\\t\\t<input type=\"search\" class=\"search-field\" placeholder=\"Pesquisar &hellip;\" value=\"\" name=\"s\" title=\"Pesquisar por:\" />\\n\\t\\t\\t\\t</label>\\n\\t\\t\\t\\t<input type=\"submit\" class=\"search-submit\" value=\"Pesquisar\" />\\n\\t\\t\\t</form>\\t\\t\\t\\t</nav><!-- #site-navigation -->\\r\\n\\t\\t\\t</div><!-- #navbar -->\\r\\n\\t\\t</header><!-- #masthead -->\\r\\n\\r\\n\\t\\t<div id=\"main\" class=\"site-main\">\\r\\n\\r\\n\\t<div id=\"primary\" class=\"content-area\">\\r\\n\\t\\t<div id=\"content\" class=\"site-content\" role=\"main\">\\r\\n\\r\\n\\t\\t\\t\\t\\t\\t\\r\\n\\t\\t\\t\\t<article id=\"post-2\" class=\"post-2 page type-page status-publish hentry\">\\r\\n\\t\\t\\t\\t\\t<header class=\"entry-header\">\\r\\n\\t\\t\\t\\t\\t\\t\\r\\n\\t\\t\\t\\t\\t\\t<h1 class=\"entry-title\">Séries de Estatísticas Conjunturais</h1>\\r\\n\\t\\t\\t\\t\\t</header><!-- .entry-header -->\\r\\n\\r\\n\\t\\t\\t\\t\\t'"
            ]
          },
          "metadata": {},
          "execution_count": 3
        }
      ]
    },
    {
      "cell_type": "code",
      "metadata": {
        "colab": {
          "base_uri": "https://localhost:8080/",
          "height": 1000
        },
        "id": "plNRRBxSWdMY",
        "outputId": "4d99c92b-7632-4e4b-8c03-7d8aec7502d5"
      },
      "source": [
        "partes[-1]"
      ],
      "execution_count": null,
      "outputs": [
        {
          "output_type": "execute_result",
          "data": {
            "application/vnd.google.colaboratory.intrinsic+json": {
              "type": "string"
            },
            "text/plain": [
              "'\\r\\n\\t\\t\\t\\t\\t\\t<p><a href=\"https://www.ipea.gov.br/cartadeconjuntura/wp-content/uploads/2021/09/210913_atividade_economica.xlsx\">Atividade Econômica (xlsx)</a><br />\\n<a href=\"https://www.ipea.gov.br/cartadeconjuntura/wp-content/uploads/2021/09/210913_emprego_e_renda.xlsx\">Emprego e Renda (xlsx)</a><br />\\n<a href=\"https://www.ipea.gov.br/cartadeconjuntura/wp-content/uploads/2021/09/210913_inflacao.xlsx\">Inflação (xlsx)</a><br />\\n<a href=\"https://www.ipea.gov.br/cartadeconjuntura/wp-content/uploads/2021/09/210913_setor_externo.xlsx\">Setor Externo (xlsx)</a><br />\\n<a href=\"https://www.ipea.gov.br/cartadeconjuntura/wp-content/uploads/2021/09/210913_politica_monetaria.xlsx\">Política Monetária (xlsx)</a><br />\\n<a href=\"https://www.ipea.gov.br/cartadeconjuntura/wp-content/uploads/2021/09/210913_financas_publicas.xlsx\">Finanças Públicas (xlsx)</a><br />\\n<a href=\"https://www.ipea.gov.br/cartadeconjuntura/wp-content/uploads/2021/09/210913_economia_mundial.xlsx\">Economia Mundial (xlsx)</a><br />\\n<a href=\"https://www.ipea.gov.br/cartadeconjuntura/wp-content/uploads/2021/09/210913_series_historicas.xlsx\">Séries Históricas (xlsx)</a></p>\\n<div id=\"gtx-trans\" style=\"position: absolute; left: 108px; top: 153px;\"></div>\\n\\t\\t\\t\\t\\t\\t\\t\\t\\t\\t\\t</div><!-- .entry-content -->\\r\\n\\r\\n\\t\\t\\t\\t\\t<footer class=\"entry-meta\">\\r\\n\\t\\t\\t\\t\\t\\t\\t\\t\\t\\t\\t</footer><!-- .entry-meta -->\\r\\n\\t\\t\\t\\t</article><!-- #post -->\\r\\n\\r\\n\\t\\t\\t\\t\\t\\t\\t\\r\\n\\t\\t</div><!-- #content -->\\r\\n\\t</div><!-- #primary -->\\r\\n\\r\\n\\t<div id=\"tertiary\" class=\"sidebar-container\" role=\"complementary\">\\n\\t\\t<div class=\"sidebar-inner\">\\n\\t\\t\\t<div class=\"widget-area\">\\n\\t\\t\\t\\t<aside id=\"text-7\" class=\"widget widget_text\"><h3 class=\"widget-title\">Version</h3>\\t\\t\\t<div class=\"textwidget\"><table width=\"50%\" border=\"0\" cellspacing=\"0\" cellpadding=\"0\">\\r\\n  <tbody>\\r\\n    <tr>\\r\\n      <td><a href=\"http://www.ipea.gov.br/cartadeconjuntura/index.php/category/brazilian-economic-outlook/\" ><img src=\"http://www.ipea.gov.br/cartadeconjuntura/wp-content/uploads/2017/11/bandeira_inglaterra.jpg\" width=\"40\" height=\"20\"/>&nbsp English</a></td>\\r\\n      <td><a href=\"http://www.ipea.gov.br/cartadeconjuntura/index.php/category/newsletter-landwirtschaft/\" ><img src=\"http://www.ipea.gov.br/cartadeconjuntura/wp-content/uploads/2020/04/bandeira_alemanha.jpg\" width=\"40\" height=\"20\"/>&nbsp Deutsch</a></td>\\r\\n    </tr>\\r\\n  </tbody>\\r\\n</table></div>\\n\\t\\t</aside><aside id=\"text-2\" class=\"widget widget_text\"><h3 class=\"widget-title\">Redes sociais do Ipea</h3>\\t\\t\\t<div class=\"textwidget\"><table width=\"100%\" border=\"0\" cellspacing=\"0\" cellpadding=\"2\">\\r\\n  <tr>\\r\\n    <td><a href=\"https://www.youtube.com/user/agenciaipea\" target=\"_blank\"><img src=\"http://www.ipea.gov.br/cartadeconjuntura/wp-content/uploads/2015/08/icon_youtube.jpg\" width=\"40\" height=\"40\"></a></td>\\r\\n    <td><a href=\"https://twitter.com/ipeaonline\" target=\"_blank\"><img src=\"http://www.ipea.gov.br/cartadeconjuntura/wp-content/uploads/2015/08/icon_twitter.jpg\" width=\"40\" height=\"40\"></a></td>\\r\\n    <td><a href=\"https://www.facebook.com/ipeaonline\" target=\"_blank\"><img src=\"http://www.ipea.gov.br/cartadeconjuntura/wp-content/uploads/2015/08/icon_facebook.jpg\" width=\"40\" height=\"40\"></a></td>\\r\\n    <td><!--<a href=\"https://plus.google.com/+agenciaipea/posts\" target=\"_blank\"><img src=\"http://www.ipea.gov.br/cartadeconjuntura/wp-content/uploads/2015/08/icon_g.jpg\" width=\"40\" height=\"40\"></a>--></td>\\r\\n    <td><!--<a href=\"https://www.flickr.com/photos/ipeaonline/sets/\" target=\"_blank\"><img src=\"http://www.ipea.gov.br/cartadeconjuntura/wp-content/uploads/2015/08/icon_flickr.jpg\" width=\"40\" height=\"40\"></a>--></td>\\r\\n  </tr>\\r\\n</table></div>\\n\\t\\t</aside><aside id=\"text-3\" class=\"widget widget_text\">\\t\\t\\t<div class=\"textwidget\"><p align=\"center\"><a href=\"http://www.ipea.gov.br/portal/index.php?option=com_alphacontent&view=alphacontent&Itemid=369\" target=\"_blank\"><img src=\"http://www.ipea.gov.br/cartadeconjuntura/wp-content/uploads/2017/02/capa_carta_conjuntura_2017.jpg\" width=\"86\" height=\"120\"><br>\\r\\nAcessar todas as edições</a></p></div>\\n\\t\\t</aside><aside id=\"s2_form_widget-2\" class=\"widget s2_form_widget\"><h3 class=\"widget-title\">Cadastre-se</h3><div class=\"search\">neste espaço para receber, por e-mail, notificações automáticas sobre novas publicações da Carta de Conjuntura.<form method=\"post\"><input type=\"hidden\" name=\"ip\" value=\"177.15.131.137\" /><span style=\"display:none !important\"><label for=\"name\">Leave Blank:</label><input type=\"text\" id=\"name\" name=\"name\" /><label for=\"uri\">Do Not Change:</label><input type=\"text\" id=\"uri\" name=\"uri\" value=\"http://\" /></span><p><label for=\"s2email\">Seu email:</label><br /><input type=\"text\" name=\"email\" id=\"s2email\" value=\"Digite o endereço de email...\" size=\"20\" onfocus=\"if (this.value == \\'Digite o endereço de email...\\') {this.value = \\'\\';}\" onblur=\"if (this.value == \\'\\') {this.value = \\'Digite o endereço de email...\\';}\" /></p><p><input type=\"submit\" name=\"subscribe\" value=\"Assinar\" />&nbsp;<input type=\"submit\" name=\"unsubscribe\" value=\"Cancelar assinatura\" /></p></form>\\r\\n</div></aside><aside id=\"text-5\" class=\"widget widget_text\">\\t\\t\\t<div class=\"textwidget\"><a href=\"http://www.ipea.gov.br/cartadeconjuntura/index.php/series-estatisticas-conjunturais-2/\"><font style=\"font-size:15px\">Acesse as Séries Estatísticas Conjunturais</font>\\r\\n</a></div>\\n\\t\\t</aside>\\t\\t<aside id=\"recent-posts-4\" class=\"widget widget_recent_entries\">\\t\\t<h3 class=\"widget-title\">Tópicos recentes</h3>\\t\\t<ul>\\n\\t\\t\\t\\t\\t<li>\\n\\t\\t\\t\\t<a href=\"http://www.ipea.gov.br/cartadeconjuntura/index.php/2021/10/indice-de-custo-da-tecnologia-da-informacao-icti-julho-de-2021/\">Índice de Custo da Tecnologia da Informação (ICTI) – julho de 2021</a>\\n\\t\\t\\t\\t\\t\\t\\t<span class=\"post-date\">6 de outubro de 2021</span>\\n\\t\\t\\t\\t\\t\\t</li>\\n\\t\\t\\t\\t\\t<li>\\n\\t\\t\\t\\t<a href=\"http://www.ipea.gov.br/cartadeconjuntura/index.php/2021/10/indicadores-mensais-do-mercado-de-trabalho-4/\">Indicadores mensais do mercado de trabalho</a>\\n\\t\\t\\t\\t\\t\\t\\t<span class=\"post-date\">5 de outubro de 2021</span>\\n\\t\\t\\t\\t\\t\\t</li>\\n\\t\\t\\t\\t\\t<li>\\n\\t\\t\\t\\t<a href=\"http://www.ipea.gov.br/cartadeconjuntura/index.php/2021/10/a-crise-da-evergrande-e-as-consequencias-para-a-mineracao-brasileira/\">A crise da Evergrande e as consequências para a mineração brasileira</a>\\n\\t\\t\\t\\t\\t\\t\\t<span class=\"post-date\">4 de outubro de 2021</span>\\n\\t\\t\\t\\t\\t\\t</li>\\n\\t\\t\\t\\t\\t<li>\\n\\t\\t\\t\\t<a href=\"http://www.ipea.gov.br/cartadeconjuntura/index.php/2021/10/indicador-ipea-de-fbcf-julho-de-2021/\">Indicador Ipea de FBCF – Julho de 2021</a>\\n\\t\\t\\t\\t\\t\\t\\t<span class=\"post-date\">4 de outubro de 2021</span>\\n\\t\\t\\t\\t\\t\\t</li>\\n\\t\\t\\t\\t\\t<li>\\n\\t\\t\\t\\t<a href=\"http://www.ipea.gov.br/cartadeconjuntura/index.php/2021/09/visao-geral-da-conjuntura-12/\">Visão Geral da Conjuntura</a>\\n\\t\\t\\t\\t\\t\\t\\t<span class=\"post-date\">30 de setembro de 2021</span>\\n\\t\\t\\t\\t\\t\\t</li>\\n\\t\\t\\t\\t</ul>\\n\\t\\t</aside><aside id=\"archives-3\" class=\"widget widget_archive\"><h3 class=\"widget-title\">Arquivos</h3>\\t\\t<label class=\"screen-reader-text\" for=\"archives-dropdown-3\">Arquivos</label>\\n\\t\\t<select id=\"archives-dropdown-3\" name=\"archive-dropdown\" onchange=\\'document.location.href=this.options[this.selectedIndex].value;\\'>\\n\\t\\t\\t\\n\\t\\t\\t<option value=\"\">Selecionar o mês</option>\\n\\t\\t\\t\\t<option value=\\'http://www.ipea.gov.br/cartadeconjuntura/index.php/2021/10/\\'> outubro 2021 &nbsp;(4)</option>\\n\\t<option value=\\'http://www.ipea.gov.br/cartadeconjuntura/index.php/2021/09/\\'> setembro 2021 &nbsp;(14)</option>\\n\\t<option value=\\'http://www.ipea.gov.br/cartadeconjuntura/index.php/2021/08/\\'> agosto 2021 &nbsp;(13)</option>\\n\\t<option value=\\'http://www.ipea.gov.br/cartadeconjuntura/index.php/2021/07/\\'> julho 2021 &nbsp;(7)</option>\\n\\t<option value=\\'http://www.ipea.gov.br/cartadeconjuntura/index.php/2021/06/\\'> junho 2021 &nbsp;(14)</option>\\n\\t<option value=\\'http://www.ipea.gov.br/cartadeconjuntura/index.php/2021/05/\\'> maio 2021 &nbsp;(11)</option>\\n\\t<option value=\\'http://www.ipea.gov.br/cartadeconjuntura/index.php/2021/04/\\'> abril 2021 &nbsp;(8)</option>\\n\\t<option value=\\'http://www.ipea.gov.br/cartadeconjuntura/index.php/2021/03/\\'> março 2021 &nbsp;(14)</option>\\n\\t<option value=\\'http://www.ipea.gov.br/cartadeconjuntura/index.php/2021/02/\\'> fevereiro 2021 &nbsp;(9)</option>\\n\\t<option value=\\'http://www.ipea.gov.br/cartadeconjuntura/index.php/2021/01/\\'> janeiro 2021 &nbsp;(6)</option>\\n\\t<option value=\\'http://www.ipea.gov.br/cartadeconjuntura/index.php/2020/12/\\'> dezembro 2020 &nbsp;(11)</option>\\n\\t<option value=\\'http://www.ipea.gov.br/cartadeconjuntura/index.php/2020/11/\\'> novembro 2020 &nbsp;(20)</option>\\n\\t<option value=\\'http://www.ipea.gov.br/cartadeconjuntura/index.php/2020/10/\\'> outubro 2020 &nbsp;(14)</option>\\n\\t<option value=\\'http://www.ipea.gov.br/cartadeconjuntura/index.php/2020/09/\\'> setembro 2020 &nbsp;(13)</option>\\n\\t<option value=\\'http://www.ipea.gov.br/cartadeconjuntura/index.php/2020/08/\\'> agosto 2020 &nbsp;(13)</option>\\n\\t<option value=\\'http://www.ipea.gov.br/cartadeconjuntura/index.php/2020/07/\\'> julho 2020 &nbsp;(15)</option>\\n\\t<option value=\\'http://www.ipea.gov.br/cartadeconjuntura/index.php/2020/06/\\'> junho 2020 &nbsp;(15)</option>\\n\\t<option value=\\'http://www.ipea.gov.br/cartadeconjuntura/index.php/2020/05/\\'> maio 2020 &nbsp;(9)</option>\\n\\t<option value=\\'http://www.ipea.gov.br/cartadeconjuntura/index.php/2020/04/\\'> abril 2020 &nbsp;(9)</option>\\n\\t<option value=\\'http://www.ipea.gov.br/cartadeconjuntura/index.php/2020/03/\\'> março 2020 &nbsp;(10)</option>\\n\\t<option value=\\'http://www.ipea.gov.br/cartadeconjuntura/index.php/2020/02/\\'> fevereiro 2020 &nbsp;(8)</option>\\n\\t<option value=\\'http://www.ipea.gov.br/cartadeconjuntura/index.php/2020/01/\\'> janeiro 2020 &nbsp;(4)</option>\\n\\t<option value=\\'http://www.ipea.gov.br/cartadeconjuntura/index.php/2019/12/\\'> dezembro 2019 &nbsp;(13)</option>\\n\\t<option value=\\'http://www.ipea.gov.br/cartadeconjuntura/index.php/2019/11/\\'> novembro 2019 &nbsp;(8)</option>\\n\\t<option value=\\'http://www.ipea.gov.br/cartadeconjuntura/index.php/2019/10/\\'> outubro 2019 &nbsp;(4)</option>\\n\\t<option value=\\'http://www.ipea.gov.br/cartadeconjuntura/index.php/2019/09/\\'> setembro 2019 &nbsp;(10)</option>\\n\\t<option value=\\'http://www.ipea.gov.br/cartadeconjuntura/index.php/2019/08/\\'> agosto 2019 &nbsp;(11)</option>\\n\\t<option value=\\'http://www.ipea.gov.br/cartadeconjuntura/index.php/2019/07/\\'> julho 2019 &nbsp;(8)</option>\\n\\t<option value=\\'http://www.ipea.gov.br/cartadeconjuntura/index.php/2019/06/\\'> junho 2019 &nbsp;(7)</option>\\n\\t<option value=\\'http://www.ipea.gov.br/cartadeconjuntura/index.php/2019/05/\\'> maio 2019 &nbsp;(13)</option>\\n\\t<option value=\\'http://www.ipea.gov.br/cartadeconjuntura/index.php/2019/04/\\'> abril 2019 &nbsp;(9)</option>\\n\\t<option value=\\'http://www.ipea.gov.br/cartadeconjuntura/index.php/2019/03/\\'> março 2019 &nbsp;(9)</option>\\n\\t<option value=\\'http://www.ipea.gov.br/cartadeconjuntura/index.php/2019/02/\\'> fevereiro 2019 &nbsp;(9)</option>\\n\\t<option value=\\'http://www.ipea.gov.br/cartadeconjuntura/index.php/2019/01/\\'> janeiro 2019 &nbsp;(4)</option>\\n\\t<option value=\\'http://www.ipea.gov.br/cartadeconjuntura/index.php/2018/12/\\'> dezembro 2018 &nbsp;(11)</option>\\n\\t<option value=\\'http://www.ipea.gov.br/cartadeconjuntura/index.php/2018/11/\\'> novembro 2018 &nbsp;(16)</option>\\n\\t<option value=\\'http://www.ipea.gov.br/cartadeconjuntura/index.php/2018/10/\\'> outubro 2018 &nbsp;(7)</option>\\n\\t<option value=\\'http://www.ipea.gov.br/cartadeconjuntura/index.php/2018/09/\\'> setembro 2018 &nbsp;(12)</option>\\n\\t<option value=\\'http://www.ipea.gov.br/cartadeconjuntura/index.php/2018/08/\\'> agosto 2018 &nbsp;(8)</option>\\n\\t<option value=\\'http://www.ipea.gov.br/cartadeconjuntura/index.php/2018/07/\\'> julho 2018 &nbsp;(8)</option>\\n\\t<option value=\\'http://www.ipea.gov.br/cartadeconjuntura/index.php/2018/06/\\'> junho 2018 &nbsp;(12)</option>\\n\\t<option value=\\'http://www.ipea.gov.br/cartadeconjuntura/index.php/2018/05/\\'> maio 2018 &nbsp;(12)</option>\\n\\t<option value=\\'http://www.ipea.gov.br/cartadeconjuntura/index.php/2018/04/\\'> abril 2018 &nbsp;(12)</option>\\n\\t<option value=\\'http://www.ipea.gov.br/cartadeconjuntura/index.php/2018/03/\\'> março 2018 &nbsp;(12)</option>\\n\\t<option value=\\'http://www.ipea.gov.br/cartadeconjuntura/index.php/2018/02/\\'> fevereiro 2018 &nbsp;(11)</option>\\n\\t<option value=\\'http://www.ipea.gov.br/cartadeconjuntura/index.php/2018/01/\\'> janeiro 2018 &nbsp;(6)</option>\\n\\t<option value=\\'http://www.ipea.gov.br/cartadeconjuntura/index.php/2017/12/\\'> dezembro 2017 &nbsp;(13)</option>\\n\\t<option value=\\'http://www.ipea.gov.br/cartadeconjuntura/index.php/2017/11/\\'> novembro 2017 &nbsp;(10)</option>\\n\\t<option value=\\'http://www.ipea.gov.br/cartadeconjuntura/index.php/2017/10/\\'> outubro 2017 &nbsp;(7)</option>\\n\\t<option value=\\'http://www.ipea.gov.br/cartadeconjuntura/index.php/2017/09/\\'> setembro 2017 &nbsp;(12)</option>\\n\\t<option value=\\'http://www.ipea.gov.br/cartadeconjuntura/index.php/2017/08/\\'> agosto 2017 &nbsp;(10)</option>\\n\\t<option value=\\'http://www.ipea.gov.br/cartadeconjuntura/index.php/2017/07/\\'> julho 2017 &nbsp;(5)</option>\\n\\t<option value=\\'http://www.ipea.gov.br/cartadeconjuntura/index.php/2017/06/\\'> junho 2017 &nbsp;(12)</option>\\n\\t<option value=\\'http://www.ipea.gov.br/cartadeconjuntura/index.php/2017/05/\\'> maio 2017 &nbsp;(7)</option>\\n\\t<option value=\\'http://www.ipea.gov.br/cartadeconjuntura/index.php/2017/04/\\'> abril 2017 &nbsp;(8)</option>\\n\\t<option value=\\'http://www.ipea.gov.br/cartadeconjuntura/index.php/2017/03/\\'> março 2017 &nbsp;(12)</option>\\n\\t<option value=\\'http://www.ipea.gov.br/cartadeconjuntura/index.php/2017/02/\\'> fevereiro 2017 &nbsp;(3)</option>\\n\\t<option value=\\'http://www.ipea.gov.br/cartadeconjuntura/index.php/2017/01/\\'> janeiro 2017 &nbsp;(2)</option>\\n\\t<option value=\\'http://www.ipea.gov.br/cartadeconjuntura/index.php/2016/12/\\'> dezembro 2016 &nbsp;(11)</option>\\n\\t<option value=\\'http://www.ipea.gov.br/cartadeconjuntura/index.php/2016/11/\\'> novembro 2016 &nbsp;(4)</option>\\n\\t<option value=\\'http://www.ipea.gov.br/cartadeconjuntura/index.php/2016/10/\\'> outubro 2016 &nbsp;(5)</option>\\n\\t<option value=\\'http://www.ipea.gov.br/cartadeconjuntura/index.php/2016/09/\\'> setembro 2016 &nbsp;(6)</option>\\n\\t<option value=\\'http://www.ipea.gov.br/cartadeconjuntura/index.php/2016/08/\\'> agosto 2016 &nbsp;(3)</option>\\n\\t<option value=\\'http://www.ipea.gov.br/cartadeconjuntura/index.php/2016/07/\\'> julho 2016 &nbsp;(5)</option>\\n\\t<option value=\\'http://www.ipea.gov.br/cartadeconjuntura/index.php/2016/06/\\'> junho 2016 &nbsp;(6)</option>\\n\\t<option value=\\'http://www.ipea.gov.br/cartadeconjuntura/index.php/2016/05/\\'> maio 2016 &nbsp;(7)</option>\\n\\t<option value=\\'http://www.ipea.gov.br/cartadeconjuntura/index.php/2016/04/\\'> abril 2016 &nbsp;(4)</option>\\n\\n\\t\\t</select>\\n</aside>\\t\\t\\t</div><!-- .widget-area -->\\n\\t\\t</div><!-- .sidebar-inner -->\\n\\t</div><!-- #tertiary -->\\n\\r\\n\\t\\t</div><!-- #main -->\\r\\n\\t\\t<footer id=\"colophon\" class=\"site-footer\" role=\"contentinfo\">\\r\\n\\t\\t\\t\\r\\n\\t\\t\\t<div class=\"site-info\">\\r\\n\\t\\t\\t\\t\\t\\t\\t\\t<a href=\"http://wordpress.org/\" title=\"Plataforma Semântica de Publicação Pessoal \"></a>\\r\\n<p class=\"rodape\" align=\"center\">Todo o conteúdo deste site está publicado sob a Licença Creative Commons Atribuição 2.5 Brasil.<br>\\r\\nIpea - Instituto de Pesquisa Econômica Aplicada</p>\\r\\n\\t\\t\\t</div><!-- .site-info -->\\r\\n\\t\\t</footer><!-- #colophon -->\\r\\n\\t</div><!-- #page -->\\r\\n\\t<script type=\\'text/javascript\\' src=\\'http://www.ipea.gov.br/cartadeconjuntura/wp-content/plugins/contact-form-7/includes/js/jquery.form.min.js?ver=3.51.0-2014.06.20\\'></script>\\n<script type=\\'text/javascript\\'>\\n/* <![CDATA[ */\\nvar _wpcf7 = {\"loaderUrl\":\"http:\\\\/\\\\/www.ipea.gov.br\\\\/cartadeconjuntura\\\\/wp-content\\\\/plugins\\\\/contact-form-7\\\\/images\\\\/ajax-loader.gif\",\"sending\":\"Enviando ...\"};\\n/* ]]> */\\n</script>\\n<script type=\\'text/javascript\\' src=\\'http://www.ipea.gov.br/cartadeconjuntura/wp-content/plugins/contact-form-7/includes/js/scripts.js?ver=4.2.2\\'></script>\\n<script type=\\'text/javascript\\' src=\\'http://www.ipea.gov.br/cartadeconjuntura/wp-includes/js/comment-reply.min.js?ver=4.2.9\\'></script>\\n<script type=\\'text/javascript\\' src=\\'http://www.ipea.gov.br/cartadeconjuntura/wp-content/themes/twentythirteen/js/functions.js?ver=20150330\\'></script>\\n</body>\\r\\n</html>'"
            ]
          },
          "metadata": {},
          "execution_count": 4
        }
      ]
    },
    {
      "cell_type": "code",
      "metadata": {
        "id": "37o3zZX1tCnK"
      },
      "source": [
        "links = partes[-1].split('<div id=\"gtx-trans\"')[0]"
      ],
      "execution_count": null,
      "outputs": []
    },
    {
      "cell_type": "code",
      "metadata": {
        "colab": {
          "base_uri": "https://localhost:8080/"
        },
        "id": "ZbgqaXINZXJP",
        "outputId": "24638956-2763-459e-a39d-c7a957532ad4"
      },
      "source": [
        "print(links)"
      ],
      "execution_count": null,
      "outputs": [
        {
          "output_type": "stream",
          "name": "stdout",
          "text": [
            "\r\n",
            "\t\t\t\t\t\t<p><a href=\"https://www.ipea.gov.br/cartadeconjuntura/wp-content/uploads/2021/09/210913_atividade_economica.xlsx\">Atividade Econômica (xlsx)</a><br />\n",
            "<a href=\"https://www.ipea.gov.br/cartadeconjuntura/wp-content/uploads/2021/09/210913_emprego_e_renda.xlsx\">Emprego e Renda (xlsx)</a><br />\n",
            "<a href=\"https://www.ipea.gov.br/cartadeconjuntura/wp-content/uploads/2021/09/210913_inflacao.xlsx\">Inflação (xlsx)</a><br />\n",
            "<a href=\"https://www.ipea.gov.br/cartadeconjuntura/wp-content/uploads/2021/09/210913_setor_externo.xlsx\">Setor Externo (xlsx)</a><br />\n",
            "<a href=\"https://www.ipea.gov.br/cartadeconjuntura/wp-content/uploads/2021/09/210913_politica_monetaria.xlsx\">Política Monetária (xlsx)</a><br />\n",
            "<a href=\"https://www.ipea.gov.br/cartadeconjuntura/wp-content/uploads/2021/09/210913_financas_publicas.xlsx\">Finanças Públicas (xlsx)</a><br />\n",
            "<a href=\"https://www.ipea.gov.br/cartadeconjuntura/wp-content/uploads/2021/09/210913_economia_mundial.xlsx\">Economia Mundial (xlsx)</a><br />\n",
            "<a href=\"https://www.ipea.gov.br/cartadeconjuntura/wp-content/uploads/2021/09/210913_series_historicas.xlsx\">Séries Históricas (xlsx)</a></p>\n",
            "\n"
          ]
        }
      ]
    },
    {
      "cell_type": "code",
      "metadata": {
        "colab": {
          "base_uri": "https://localhost:8080/"
        },
        "id": "xgbrvLBLZkkH",
        "outputId": "104fcf1b-0ed2-44f6-caa5-9683dc5d500d"
      },
      "source": [
        "links = links.split('\"')\n",
        "links"
      ],
      "execution_count": null,
      "outputs": [
        {
          "output_type": "execute_result",
          "data": {
            "text/plain": [
              "['\\r\\n\\t\\t\\t\\t\\t\\t<p><a href=',\n",
              " 'https://www.ipea.gov.br/cartadeconjuntura/wp-content/uploads/2021/09/210913_atividade_economica.xlsx',\n",
              " '>Atividade Econômica (xlsx)</a><br />\\n<a href=',\n",
              " 'https://www.ipea.gov.br/cartadeconjuntura/wp-content/uploads/2021/09/210913_emprego_e_renda.xlsx',\n",
              " '>Emprego e Renda (xlsx)</a><br />\\n<a href=',\n",
              " 'https://www.ipea.gov.br/cartadeconjuntura/wp-content/uploads/2021/09/210913_inflacao.xlsx',\n",
              " '>Inflação (xlsx)</a><br />\\n<a href=',\n",
              " 'https://www.ipea.gov.br/cartadeconjuntura/wp-content/uploads/2021/09/210913_setor_externo.xlsx',\n",
              " '>Setor Externo (xlsx)</a><br />\\n<a href=',\n",
              " 'https://www.ipea.gov.br/cartadeconjuntura/wp-content/uploads/2021/09/210913_politica_monetaria.xlsx',\n",
              " '>Política Monetária (xlsx)</a><br />\\n<a href=',\n",
              " 'https://www.ipea.gov.br/cartadeconjuntura/wp-content/uploads/2021/09/210913_financas_publicas.xlsx',\n",
              " '>Finanças Públicas (xlsx)</a><br />\\n<a href=',\n",
              " 'https://www.ipea.gov.br/cartadeconjuntura/wp-content/uploads/2021/09/210913_economia_mundial.xlsx',\n",
              " '>Economia Mundial (xlsx)</a><br />\\n<a href=',\n",
              " 'https://www.ipea.gov.br/cartadeconjuntura/wp-content/uploads/2021/09/210913_series_historicas.xlsx',\n",
              " '>Séries Históricas (xlsx)</a></p>\\n']"
            ]
          },
          "metadata": {},
          "execution_count": 7
        }
      ]
    },
    {
      "cell_type": "code",
      "metadata": {
        "colab": {
          "base_uri": "https://localhost:8080/"
        },
        "id": "EXHv8ooiZ9Uc",
        "outputId": "4a226013-894d-4a7e-c13c-507d40498e50"
      },
      "source": [
        "for link in links:\n",
        "  if \"https\" in link:\n",
        "    print(link)\n"
      ],
      "execution_count": null,
      "outputs": [
        {
          "output_type": "stream",
          "name": "stdout",
          "text": [
            "https://www.ipea.gov.br/cartadeconjuntura/wp-content/uploads/2021/09/210913_atividade_economica.xlsx\n",
            "https://www.ipea.gov.br/cartadeconjuntura/wp-content/uploads/2021/09/210913_emprego_e_renda.xlsx\n",
            "https://www.ipea.gov.br/cartadeconjuntura/wp-content/uploads/2021/09/210913_inflacao.xlsx\n",
            "https://www.ipea.gov.br/cartadeconjuntura/wp-content/uploads/2021/09/210913_setor_externo.xlsx\n",
            "https://www.ipea.gov.br/cartadeconjuntura/wp-content/uploads/2021/09/210913_politica_monetaria.xlsx\n",
            "https://www.ipea.gov.br/cartadeconjuntura/wp-content/uploads/2021/09/210913_financas_publicas.xlsx\n",
            "https://www.ipea.gov.br/cartadeconjuntura/wp-content/uploads/2021/09/210913_economia_mundial.xlsx\n",
            "https://www.ipea.gov.br/cartadeconjuntura/wp-content/uploads/2021/09/210913_series_historicas.xlsx\n"
          ]
        }
      ]
    }
  ]
}